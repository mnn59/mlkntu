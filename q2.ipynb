{
  "nbformat": 4,
  "nbformat_minor": 0,
  "metadata": {
    "colab": {
      "provenance": [],
      "gpuType": "T4"
    },
    "kernelspec": {
      "name": "python3",
      "display_name": "Python 3"
    },
    "language_info": {
      "name": "python"
    },
    "accelerator": "GPU"
  },
  "cells": [
    {
      "cell_type": "code",
      "execution_count": 30,
      "metadata": {
        "id": "6XwSNaODxCHr"
      },
      "outputs": [],
      "source": [
        "import torch\n",
        "from torch import nn\n",
        "import torch.nn.functional as F\n",
        "from torch.utils.data import DataLoader, Dataset\n",
        "from torchsummary import summary\n",
        "import torch.optim as optim\n",
        "\n",
        "import torchvision\n",
        "from torchvision import transforms\n",
        "from torchvision.datasets import ImageFolder\n",
        "\n",
        "import matplotlib.pyplot as plt\n",
        "import seaborn as sns\n",
        "import numpy as np\n",
        "from tqdm import tqdm\n",
        "from PIL import Image\n",
        "import cv2\n",
        "import glob\n",
        "import os\n",
        "\n",
        "from sklearn.metrics import accuracy_score, precision_score, recall_score, f1_score, confusion_matrix, roc_auc_score\n",
        "\n",
        "from timeit import default_timer as timer"
      ]
    },
    {
      "cell_type": "code",
      "source": [
        "# Hyperparameters\n",
        "input_size = 150\n",
        "batch_size = 32\n",
        "num_conv_layers = 1  # 6\n",
        "learning_rate = 0.001\n",
        "epochs = 20  # 50"
      ],
      "metadata": {
        "id": "vYUF51a--hcC"
      },
      "execution_count": 59,
      "outputs": []
    },
    {
      "cell_type": "markdown",
      "source": [
        "# 1. Dataset"
      ],
      "metadata": {
        "id": "tmBChro150Aa"
      }
    },
    {
      "cell_type": "markdown",
      "source": [
        "## Exploring Dataset"
      ],
      "metadata": {
        "id": "eNPaZAAk58wq"
      }
    },
    {
      "cell_type": "code",
      "source": [
        "DIR_TRAIN = \"/content/drive/MyDrive/datasets/dataset1/train/\"\n",
        "DIR_TEST = \"/content/drive/MyDrive/datasets/dataset1/test/\""
      ],
      "metadata": {
        "id": "shtNhXsx5-rn"
      },
      "execution_count": 3,
      "outputs": []
    },
    {
      "cell_type": "code",
      "source": [
        "classes = os.listdir(DIR_TRAIN)\n",
        "print(\"total classes: \", len(classes))\n",
        "train_imgs, test_imgs = [], []\n",
        "image_formats = ['*.jpg', '*.jpeg', '*.png']\n",
        "\n",
        "for _class in classes:\n",
        "    for format in image_formats:\n",
        "        train_imgs += glob.glob(os.path.join(DIR_TRAIN, _class, format))\n",
        "        test_imgs += glob.glob(os.path.join(DIR_TEST, _class, format))\n",
        "\n",
        "print(\"total train images: \", len(train_imgs))\n",
        "print(\"total test images: \", len(test_imgs))"
      ],
      "metadata": {
        "colab": {
          "base_uri": "https://localhost:8080/"
        },
        "id": "GXdwlQ9x6Oeh",
        "outputId": "ff96fa3a-d096-486c-c2b6-431cb08e9556"
      },
      "execution_count": 4,
      "outputs": [
        {
          "output_type": "stream",
          "name": "stdout",
          "text": [
            "total classes:  2\n",
            "total train images:  148\n",
            "total test images:  43\n"
          ]
        }
      ]
    },
    {
      "cell_type": "markdown",
      "source": [
        "## Loading dataset"
      ],
      "metadata": {
        "id": "imX9wYxr-L_r"
      }
    },
    {
      "cell_type": "code",
      "source": [
        "train_transforms = transforms.Compose([\n",
        "    transforms.Resize((input_size, input_size)),\n",
        "    transforms.RandomApply([transforms.RandomHorizontalFlip(p=1)], p=1),  # Flipped\n",
        "    transforms.RandomApply([transforms.RandomRotation((90, 90))], p=1),  # 90-degree rotation\n",
        "    transforms.RandomApply([transforms.RandomRotation((180, 180))], p=1),  # 180-degree rotation\n",
        "    transforms.RandomApply([transforms.RandomRotation((270, 270))], p=1),  # 270-degree rotation\n",
        "    transforms.ToTensor(),\n",
        "    transforms.Normalize([0.5], [0.5])\n",
        "])\n",
        "\n",
        "test_transforms = transforms.Compose([\n",
        "    transforms.Resize((input_size, input_size)),\n",
        "    transforms.ToTensor(),\n",
        "    transforms.Normalize([0.5], [0.5])\n",
        "])"
      ],
      "metadata": {
        "id": "6-uzJzRS-Nr4"
      },
      "execution_count": 5,
      "outputs": []
    },
    {
      "cell_type": "code",
      "source": [
        "train_dataset = ImageFolder(root = DIR_TRAIN, transform = train_transforms)\n",
        "test_dataset = ImageFolder(root = DIR_TEST, transform = test_transforms)"
      ],
      "metadata": {
        "id": "JxZlEP4j-kpO"
      },
      "execution_count": 6,
      "outputs": []
    },
    {
      "cell_type": "markdown",
      "source": [
        "## Creating Dataloader"
      ],
      "metadata": {
        "id": "I-uHHXOL-urR"
      }
    },
    {
      "cell_type": "code",
      "source": [
        "train_dataloader = DataLoader(\n",
        "    dataset=train_dataset,\n",
        "    batch_size=batch_size,\n",
        "    num_workers=2,\n",
        "    shuffle=True\n",
        ")\n",
        "\n",
        "test_dataloader = DataLoader(\n",
        "    dataset=test_dataset,\n",
        "    batch_size=batch_size,\n",
        "    num_workers=2\n",
        ")"
      ],
      "metadata": {
        "id": "iUkVdgNk-wXi"
      },
      "execution_count": 7,
      "outputs": []
    },
    {
      "cell_type": "markdown",
      "source": [
        "## Show a sample"
      ],
      "metadata": {
        "id": "QTr6JjMj_a4i"
      }
    },
    {
      "cell_type": "code",
      "source": [
        "train_features_batch, train_labels_batch = next(iter(train_dataloader))\n",
        "train_features_batch.shape, train_labels_batch.shape"
      ],
      "metadata": {
        "colab": {
          "base_uri": "https://localhost:8080/"
        },
        "id": "YqOCc6q1_coA",
        "outputId": "77e11c73-2248-4891-e589-686b10b9c4a5"
      },
      "execution_count": 8,
      "outputs": [
        {
          "output_type": "execute_result",
          "data": {
            "text/plain": [
              "(torch.Size([32, 3, 150, 150]), torch.Size([32]))"
            ]
          },
          "metadata": {},
          "execution_count": 8
        }
      ]
    },
    {
      "cell_type": "code",
      "source": [
        "train_features_batch[0].shape, train_labels_batch[0].shape"
      ],
      "metadata": {
        "colab": {
          "base_uri": "https://localhost:8080/"
        },
        "id": "9lvdCLDP_W09",
        "outputId": "c3ab0917-8e83-4e1b-91e8-bfdf3a08a89d"
      },
      "execution_count": 9,
      "outputs": [
        {
          "output_type": "execute_result",
          "data": {
            "text/plain": [
              "(torch.Size([3, 150, 150]), torch.Size([]))"
            ]
          },
          "metadata": {},
          "execution_count": 9
        }
      ]
    },
    {
      "cell_type": "code",
      "source": [
        "img, label = train_features_batch[0], train_labels_batch[0]\n",
        "mean, std = 0.5, 0.5\n",
        "img = img * std + mean\n",
        "plt.imshow(img.permute(1, 2, 0))\n",
        "plt.title(classes[label])\n",
        "plt.axis('off')\n",
        "print('image size: ', img.shape)\n",
        "print('label: ', label)"
      ],
      "metadata": {
        "colab": {
          "base_uri": "https://localhost:8080/",
          "height": 463
        },
        "id": "_Hx2IzhR-rr0",
        "outputId": "c6f1ef07-feea-4763-d296-733822978f21"
      },
      "execution_count": 10,
      "outputs": [
        {
          "output_type": "stream",
          "name": "stdout",
          "text": [
            "image size:  torch.Size([3, 150, 150])\n",
            "label:  tensor(0)\n"
          ]
        },
        {
          "output_type": "display_data",
          "data": {
            "text/plain": [
              "<Figure size 640x480 with 1 Axes>"
            ],
            "image/png": "[encoded data removed]"
          },
          "metadata": {}
        }
      ]
    },
    {
      "cell_type": "markdown",
      "source": [
        "# 2. Build CNN"
      ],
      "metadata": {
        "id": "vINlsltyBiIy"
      }
    },
    {
      "cell_type": "code",
      "source": [
        "# Define a CNN model with a variable number of convolutional layers\n",
        "class COVIDClassifier(nn.Module):\n",
        "    def __init__(self, num_layers):\n",
        "        super(COVIDClassifier, self).__init__()\n",
        "        channels = [3, 64, 64, 128, 128, 256, 256]\n",
        "        self.conv_layers = nn.Sequential()\n",
        "\n",
        "        for i in range(1, num_layers+1):\n",
        "            self.conv_layers.add_module(f\"conv_{i}\", nn.Conv2d(channels[i-1], channels[i], kernel_size=3, padding=1))\n",
        "            self.conv_layers.add_module(f\"batchnorm_{i}\", nn.BatchNorm2d(channels[i]))\n",
        "            self.conv_layers.add_module(f\"relu_{i}\", nn.ReLU())\n",
        "            self.conv_layers.add_module(f\"maxpool_{i}\", nn.MaxPool2d(kernel_size=2, stride=2))\n",
        "            self.conv_layers.add_module(f\"dropout_{i}\", nn.Dropout(0.2))\n",
        "\n",
        "        # Calculate output dimensions\n",
        "        spatial_dim = input_size // (2 ** num_layers)\n",
        "        num_features = spatial_dim ** 2 * channels[num_layers]\n",
        "\n",
        "        # self.classifier = nn.Sequential()\n",
        "\n",
        "        # Fully connected layers\n",
        "        # self.classifier.add_module(f\"flatten\", nn.Flatten())\n",
        "        # self.classifier.add_module(f\"fc1\", nn.Linear(num_features, 512))\n",
        "        # self.classifier.add_module(f\"bn1\", nn.BatchNorm1d(512))\n",
        "        # self.classifier.add_module(f\"fc2\", nn.Linear(512, 256))\n",
        "        # self.classifier.add_module(f\"bn2\", nn.BatchNorm1d(256))\n",
        "        # self.classifier.add_module(f\"fc3\", nn.Linear(256, 1))\n",
        "        # # Sigmoid for binary classification\n",
        "        # self.classifier.add_module(f\"output_activation\", nn.Sigmoid())\n",
        "\n",
        "\n",
        "        # Fully connected layers\n",
        "        self.flatten = nn.Flatten()\n",
        "        self.fc1 = nn.Linear(num_features, 512)  # Adjust based on input size (150x150)     2*2\n",
        "        self.bn1 = nn.BatchNorm1d(512)\n",
        "        self.fc2 = nn.Linear(512, 256)\n",
        "        self.bn2 = nn.BatchNorm1d(256)\n",
        "        self.fc3 = nn.Linear(256, 1)\n",
        "\n",
        "\n",
        "\n",
        "        # Sigmoid for binary classification\n",
        "        self.output_activation = nn.Sigmoid()\n",
        "\n",
        "    def forward(self, x:torch.Tensor):\n",
        "        x = self.conv_layers(x)\n",
        "        # print('11111111111111111111111', x.shape)\n",
        "        x = self.flatten(x)\n",
        "        x = F.relu(self.bn1(self.fc1(x)))\n",
        "        x = F.relu(self.bn2(self.fc2(x)))\n",
        "        x = self.fc3(x)\n",
        "        x = self.output_activation(x)\n",
        "        return x"
      ],
      "metadata": {
        "id": "57oTVTvBBk8h"
      },
      "execution_count": 11,
      "outputs": []
    },
    {
      "cell_type": "code",
      "source": [
        "model = COVIDClassifier(num_layers=num_conv_layers)\n",
        "model"
      ],
      "metadata": {
        "colab": {
          "base_uri": "https://localhost:8080/"
        },
        "id": "BOPfu-hz8ZOl",
        "outputId": "a1cdcf99-9c72-4f79-bb94-3ca3483571d6"
      },
      "execution_count": 60,
      "outputs": [
        {
          "output_type": "execute_result",
          "data": {
            "text/plain": [
              "COVIDClassifier(\n",
              "  (conv_layers): Sequential(\n",
              "    (conv_1): Conv2d(3, 64, kernel_size=(3, 3), stride=(1, 1), padding=(1, 1))\n",
              "    (batchnorm_1): BatchNorm2d(64, eps=1e-05, momentum=0.1, affine=True, track_running_stats=True)\n",
              "    (relu_1): ReLU()\n",
              "    (maxpool_1): MaxPool2d(kernel_size=2, stride=2, padding=0, dilation=1, ceil_mode=False)\n",
              "    (dropout_1): Dropout(p=0.2, inplace=False)\n",
              "  )\n",
              "  (flatten): Flatten(start_dim=1, end_dim=-1)\n",
              "  (fc1): Linear(in_features=360000, out_features=512, bias=True)\n",
              "  (bn1): BatchNorm1d(512, eps=1e-05, momentum=0.1, affine=True, track_running_stats=True)\n",
              "  (fc2): Linear(in_features=512, out_features=256, bias=True)\n",
              "  (bn2): BatchNorm1d(256, eps=1e-05, momentum=0.1, affine=True, track_running_stats=True)\n",
              "  (fc3): Linear(in_features=256, out_features=1, bias=True)\n",
              "  (output_activation): Sigmoid()\n",
              ")"
            ]
          },
          "metadata": {},
          "execution_count": 60
        }
      ]
    },
    {
      "cell_type": "code",
      "source": [
        "summary(model, (3, 150, 150), device=device)"
      ],
      "metadata": {
        "colab": {
          "base_uri": "https://localhost:8080/",
          "height": 263
        },
        "id": "SehVqCNV5781",
        "outputId": "bb53b446-0ab7-4db3-c8c9-1dfa60e6bd10"
      },
      "execution_count": 34,
      "outputs": [
        {
          "output_type": "error",
          "ename": "AttributeError",
          "evalue": "'torch.device' object has no attribute 'lower'",
          "traceback": [
            "\u001b[0;31m---------------------------------------------------------------------------\u001b[0m",
            "\u001b[0;31mAttributeError\u001b[0m                            Traceback (most recent call last)",
            "\u001b[0;32m<ipython-input-34-12b54cbc0c8d>\u001b[0m in \u001b[0;36m<cell line: 0>\u001b[0;34m()\u001b[0m\n\u001b[0;32m----> 1\u001b[0;31m \u001b[0msummary\u001b[0m\u001b[0;34m(\u001b[0m\u001b[0mmodel\u001b[0m\u001b[0;34m,\u001b[0m \u001b[0;34m(\u001b[0m\u001b[0;36m3\u001b[0m\u001b[0;34m,\u001b[0m \u001b[0;36m150\u001b[0m\u001b[0;34m,\u001b[0m \u001b[0;36m150\u001b[0m\u001b[0;34m)\u001b[0m\u001b[0;34m,\u001b[0m \u001b[0mdevice\u001b[0m\u001b[0;34m=\u001b[0m\u001b[0mdevice\u001b[0m\u001b[0;34m)\u001b[0m\u001b[0;34m\u001b[0m\u001b[0;34m\u001b[0m\u001b[0m\n\u001b[0m",
            "\u001b[0;32m/usr/local/lib/python3.11/dist-packages/torchsummary/torchsummary.py\u001b[0m in \u001b[0;36msummary\u001b[0;34m(model, input_size, batch_size, device)\u001b[0m\n\u001b[1;32m     42\u001b[0m             \u001b[0mhooks\u001b[0m\u001b[0;34m.\u001b[0m\u001b[0mappend\u001b[0m\u001b[0;34m(\u001b[0m\u001b[0mmodule\u001b[0m\u001b[0;34m.\u001b[0m\u001b[0mregister_forward_hook\u001b[0m\u001b[0;34m(\u001b[0m\u001b[0mhook\u001b[0m\u001b[0;34m)\u001b[0m\u001b[0;34m)\u001b[0m\u001b[0;34m\u001b[0m\u001b[0;34m\u001b[0m\u001b[0m\n\u001b[1;32m     43\u001b[0m \u001b[0;34m\u001b[0m\u001b[0m\n\u001b[0;32m---> 44\u001b[0;31m     \u001b[0mdevice\u001b[0m \u001b[0;34m=\u001b[0m \u001b[0mdevice\u001b[0m\u001b[0;34m.\u001b[0m\u001b[0mlower\u001b[0m\u001b[0;34m(\u001b[0m\u001b[0;34m)\u001b[0m\u001b[0;34m\u001b[0m\u001b[0;34m\u001b[0m\u001b[0m\n\u001b[0m\u001b[1;32m     45\u001b[0m     assert device in [\n\u001b[1;32m     46\u001b[0m         \u001b[0;34m\"cuda\"\u001b[0m\u001b[0;34m,\u001b[0m\u001b[0;34m\u001b[0m\u001b[0;34m\u001b[0m\u001b[0m\n",
            "\u001b[0;31mAttributeError\u001b[0m: 'torch.device' object has no attribute 'lower'"
          ]
        }
      ]
    },
    {
      "cell_type": "code",
      "source": [
        "random_sample = torch.randn((32, 3, 150, 150))\n",
        "model(random_sample).shape"
      ],
      "metadata": {
        "colab": {
          "base_uri": "https://localhost:8080/"
        },
        "id": "ROYzWCAcNRi9",
        "outputId": "2cf0953c-9cdf-4907-aaa2-79c948e4a813"
      },
      "execution_count": 35,
      "outputs": [
        {
          "output_type": "execute_result",
          "data": {
            "text/plain": [
              "torch.Size([32, 1])"
            ]
          },
          "metadata": {},
          "execution_count": 35
        }
      ]
    },
    {
      "cell_type": "markdown",
      "source": [
        "# 3. Training"
      ],
      "metadata": {
        "id": "UXcCLBmjQQh2"
      }
    },
    {
      "cell_type": "code",
      "source": [
        "# # FAKE\n",
        "# def accuracy_fn(true, pred):\n",
        "#     # Ensure true is of type torch.int64\n",
        "#     true = true.to(torch.int64)\n",
        "#     # Apply softmax to predictions\n",
        "#     pred = F.softmax(pred, dim=1)\n",
        "#     # Create one-hot encoding for true labels\n",
        "#     true_one_hot = torch.zeros(pred.shape[0], pred.shape[1]).scatter_(1, true.unsqueeze(1), 1.)\n",
        "#     # Calculate accuracy\n",
        "#     acc = (true_one_hot.argmax(-1) == pred.argmax(-1)).float().detach().numpy()\n",
        "#     acc = float((100 * acc.sum()) / len(acc))\n",
        "#     return round(acc, 4)\n",
        "#     # pred = F.softmax(pred, dim = 1)\n",
        "#     # true = torch.zeros(pred.shape[0], pred.shape[1]).scatter_(1, true.unsqueeze(1), 1.)\n",
        "#     # acc = (true.argmax(-1) == pred.argmax(-1)).float().detach().numpy()\n",
        "#     # acc = float((100 * acc.sum()) / len(acc))\n",
        "#     # return round(acc, 4)"
      ],
      "metadata": {
        "id": "tNQqILHvS3Eq"
      },
      "execution_count": 18,
      "outputs": []
    },
    {
      "cell_type": "code",
      "source": [
        "def accuracy_fn(true, pred):\n",
        "    # Since true labels are floats and might be used in a regression-like manner,\n",
        "    # we'll treat them as binary labels (0 or 1) based on a threshold.\n",
        "    # For binary classification, the model output is typically a probability.\n",
        "    # Here, we assume that the model output is a probability (between 0 and 1).\n",
        "\n",
        "    # Convert predictions to binary labels (0 or 1) based on a threshold (0.5)\n",
        "    pred_binary = (pred > 0.5).float()\n",
        "\n",
        "    # Calculate accuracy\n",
        "    acc = (true == pred_binary).float().sum().item()\n",
        "\n",
        "    return acc"
      ],
      "metadata": {
        "id": "rALd9v7VfXkA"
      },
      "execution_count": 36,
      "outputs": []
    },
    {
      "cell_type": "code",
      "source": [
        "def train_step(model, data_loader, loss_fn, optimizer, accuracy_fn, device):\n",
        "    model.to(device)\n",
        "    # layerwise_acc = {}\n",
        "    train_loss, train_acc, counter = 0, 0, 0\n",
        "    with tqdm(data_loader, desc=f\" train\") as train_tqdm:\n",
        "        for images, labels in train_tqdm:\n",
        "            images, labels = images.to(device), labels.float().to(device).unsqueeze(1)\n",
        "            # 1. Forward pass\n",
        "            prediction = model(images)\n",
        "            # 2. Calculate loss\n",
        "            loss = loss_fn(prediction, labels)\n",
        "            train_loss += loss\n",
        "            train_acc += accuracy_fn(true=labels.cpu(), pred=prediction.cpu())\n",
        "            counter += 1\n",
        "            train_tqdm.set_postfix(train_acc=train_acc/counter, train_loss=train_loss.item()/counter, refresh=True)\n",
        "            # 3. Optimizer zero grad\n",
        "            optimizer.zero_grad()\n",
        "            # 4. Loss backward\n",
        "            loss.backward()\n",
        "            # 5. Optimizer step\n",
        "            optimizer.step()\n",
        "        # Calculate loss and accuracy per epoch\n",
        "        train_loss /= len(data_loader)\n",
        "        train_acc /= len(data_loader)\n",
        "        # layerwise_acc[num_layers] = train_acc\n",
        "    return train_loss.item(), train_acc"
      ],
      "metadata": {
        "id": "dgnM-7uiQR-f"
      },
      "execution_count": 20,
      "outputs": []
    },
    {
      "cell_type": "code",
      "source": [
        "def test_step(model, data_loader, loss_fn, accuracy_fn, device):\n",
        "    model.to(device)\n",
        "    model.eval()\n",
        "    test_loss, test_acc, counter = 0, 0, 0\n",
        "    with tqdm(data_loader, desc=\" test\") as test_tqdm:\n",
        "        for images, labels in test_tqdm:\n",
        "            images, labels = images.to(device), labels.float().to(device).unsqueeze(1)\n",
        "            # 1. Forward pass\n",
        "            test_prediction = model(images)\n",
        "            # 2. Calculate loss and accuracy\n",
        "            test_loss += loss_fn(test_prediction, labels)\n",
        "            test_acc += accuracy_fn(true=labels.cpu(), pred=test_prediction.cpu())\n",
        "            counter += 1\n",
        "            test_tqdm.set_postfix(test_acc=test_acc/counter, test_loss=test_loss.item()/counter, refresh=True)\n",
        "        test_loss /= len(data_loader)\n",
        "        test_acc  /= len(data_loader)\n",
        "    return test_loss.item(), test_acc"
      ],
      "metadata": {
        "id": "fwz3PmXyT6es"
      },
      "execution_count": 21,
      "outputs": []
    },
    {
      "cell_type": "code",
      "source": [
        "loss_fn = nn.BCELoss()\n",
        "optimizer = optim.Adam(model.parameters(), lr=learning_rate)\n",
        "device = torch.device(\"cuda:0\" if torch.cuda.is_available() else \"cpu\")"
      ],
      "metadata": {
        "id": "kypI3TIeWgyF"
      },
      "execution_count": 63,
      "outputs": []
    },
    {
      "cell_type": "code",
      "source": [
        "device"
      ],
      "metadata": {
        "colab": {
          "base_uri": "https://localhost:8080/"
        },
        "id": "oW_I03C2qCJi",
        "outputId": "0cfb79c3-8b62-45e5-e8b5-454ecb2a665a"
      },
      "execution_count": 23,
      "outputs": [
        {
          "output_type": "execute_result",
          "data": {
            "text/plain": [
              "device(type='cuda', index=0)"
            ]
          },
          "metadata": {},
          "execution_count": 23
        }
      ]
    },
    {
      "cell_type": "code",
      "source": [
        "train_epoch_loss = []\n",
        "train_epoch_accuracy = []\n",
        "test_epoch_loss = []\n",
        "test_epoch_accuracy = []\n",
        "\n",
        "train_time_start = timer()\n",
        "\n",
        "for epoch in range(epochs):\n",
        "    print(\"Epoch {}/{} :\".format(epoch +1, epochs))\n",
        "    train_loss, train_acc = train_step(data_loader=train_dataloader,\n",
        "                                              model=model,\n",
        "                                              loss_fn=loss_fn,\n",
        "                                              optimizer=optimizer,\n",
        "                                              accuracy_fn=accuracy_fn,\n",
        "                                              device=device\n",
        "                                              )\n",
        "    test_loss, test_acc = test_step(data_loader=test_dataloader,\n",
        "                                    model=model,\n",
        "                                    loss_fn=loss_fn,\n",
        "                                    accuracy_fn=accuracy_fn,\n",
        "                                    device=device\n",
        "                                    )\n",
        "    train_epoch_loss.append(train_loss)\n",
        "    train_epoch_accuracy.append(train_acc)\n",
        "    test_epoch_loss.append(test_loss)\n",
        "    test_epoch_accuracy.append(test_acc)\n",
        "\n",
        "train_time_end = timer()\n",
        "total_time = train_time_end - train_time_start\n",
        "print(f\"\\n\\nTrain time: {total_time:.3f} seconds\")"
      ],
      "metadata": {
        "colab": {
          "base_uri": "https://localhost:8080/"
        },
        "id": "3lep7GiJS3nd",
        "outputId": "209ede78-68a7-45b9-a54f-c109aab7dd36"
      },
      "execution_count": 64,
      "outputs": [
        {
          "output_type": "stream",
          "name": "stdout",
          "text": [
            "Epoch 1/20 :\n"
          ]
        },
        {
          "output_type": "stream",
          "name": "stderr",
          "text": [
            " train: 100%|██████████| 5/5 [00:04<00:00,  1.07it/s, train_acc=26.2, train_loss=0.274]\n",
            " test: 100%|██████████| 2/2 [00:01<00:00,  1.52it/s, test_acc=15.5, test_loss=0.619]\n"
          ]
        },
        {
          "output_type": "stream",
          "name": "stdout",
          "text": [
            "Epoch 2/20 :\n"
          ]
        },
        {
          "output_type": "stream",
          "name": "stderr",
          "text": [
            " train: 100%|██████████| 5/5 [00:05<00:00,  1.06s/it, train_acc=28.6, train_loss=0.217]\n",
            " test: 100%|██████████| 2/2 [00:02<00:00,  1.07s/it, test_acc=14.5, test_loss=0.653]\n"
          ]
        },
        {
          "output_type": "stream",
          "name": "stdout",
          "text": [
            "Epoch 3/20 :\n"
          ]
        },
        {
          "output_type": "stream",
          "name": "stderr",
          "text": [
            " train: 100%|██████████| 5/5 [00:04<00:00,  1.02it/s, train_acc=27.6, train_loss=0.216]\n",
            " test: 100%|██████████| 2/2 [00:01<00:00,  1.50it/s, test_acc=10, test_loss=3.06]\n"
          ]
        },
        {
          "output_type": "stream",
          "name": "stdout",
          "text": [
            "Epoch 4/20 :\n"
          ]
        },
        {
          "output_type": "stream",
          "name": "stderr",
          "text": [
            " train: 100%|██████████| 5/5 [00:05<00:00,  1.03s/it, train_acc=27.6, train_loss=0.173]\n",
            " test: 100%|██████████| 2/2 [00:02<00:00,  1.07s/it, test_acc=16, test_loss=0.747]\n"
          ]
        },
        {
          "output_type": "stream",
          "name": "stdout",
          "text": [
            "Epoch 5/20 :\n"
          ]
        },
        {
          "output_type": "stream",
          "name": "stderr",
          "text": [
            " train: 100%|██████████| 5/5 [00:05<00:00,  1.19s/it, train_acc=29.2, train_loss=0.0518]\n",
            " test: 100%|██████████| 2/2 [00:01<00:00,  1.54it/s, test_acc=12, test_loss=1.77]\n"
          ]
        },
        {
          "output_type": "stream",
          "name": "stdout",
          "text": [
            "Epoch 6/20 :\n"
          ]
        },
        {
          "output_type": "stream",
          "name": "stderr",
          "text": [
            " train: 100%|██████████| 5/5 [00:04<00:00,  1.07it/s, train_acc=29, train_loss=0.0273]\n",
            " test: 100%|██████████| 2/2 [00:01<00:00,  1.22it/s, test_acc=17, test_loss=0.849]\n"
          ]
        },
        {
          "output_type": "stream",
          "name": "stdout",
          "text": [
            "Epoch 7/20 :\n"
          ]
        },
        {
          "output_type": "stream",
          "name": "stderr",
          "text": [
            " train: 100%|██████████| 5/5 [00:07<00:00,  1.41s/it, train_acc=29.4, train_loss=0.0384]\n",
            " test: 100%|██████████| 2/2 [00:01<00:00,  1.41it/s, test_acc=15, test_loss=1.05]\n"
          ]
        },
        {
          "output_type": "stream",
          "name": "stdout",
          "text": [
            "Epoch 8/20 :\n"
          ]
        },
        {
          "output_type": "stream",
          "name": "stderr",
          "text": [
            " train: 100%|██████████| 5/5 [00:04<00:00,  1.09it/s, train_acc=29.6, train_loss=0.0052]\n",
            " test: 100%|██████████| 2/2 [00:01<00:00,  1.51it/s, test_acc=13, test_loss=1.62]\n"
          ]
        },
        {
          "output_type": "stream",
          "name": "stdout",
          "text": [
            "Epoch 9/20 :\n"
          ]
        },
        {
          "output_type": "stream",
          "name": "stderr",
          "text": [
            " train: 100%|██████████| 5/5 [00:07<00:00,  1.47s/it, train_acc=29.6, train_loss=0.00513]\n",
            " test: 100%|██████████| 2/2 [00:01<00:00,  1.48it/s, test_acc=13, test_loss=1.75]\n"
          ]
        },
        {
          "output_type": "stream",
          "name": "stdout",
          "text": [
            "Epoch 10/20 :\n"
          ]
        },
        {
          "output_type": "stream",
          "name": "stderr",
          "text": [
            " train: 100%|██████████| 5/5 [00:04<00:00,  1.04it/s, train_acc=29.6, train_loss=0.00188]\n",
            " test: 100%|██████████| 2/2 [00:01<00:00,  1.49it/s, test_acc=14, test_loss=1.7]\n"
          ]
        },
        {
          "output_type": "stream",
          "name": "stdout",
          "text": [
            "Epoch 11/20 :\n"
          ]
        },
        {
          "output_type": "stream",
          "name": "stderr",
          "text": [
            " train: 100%|██████████| 5/5 [00:06<00:00,  1.32s/it, train_acc=29.6, train_loss=0.000793]\n",
            " test: 100%|██████████| 2/2 [00:01<00:00,  1.38it/s, test_acc=14, test_loss=1.66]\n"
          ]
        },
        {
          "output_type": "stream",
          "name": "stdout",
          "text": [
            "Epoch 12/20 :\n"
          ]
        },
        {
          "output_type": "stream",
          "name": "stderr",
          "text": [
            " train: 100%|██████████| 5/5 [00:04<00:00,  1.08it/s, train_acc=29.6, train_loss=0.000757]\n",
            " test: 100%|██████████| 2/2 [00:01<00:00,  1.51it/s, test_acc=14, test_loss=1.66]\n"
          ]
        },
        {
          "output_type": "stream",
          "name": "stdout",
          "text": [
            "Epoch 13/20 :\n"
          ]
        },
        {
          "output_type": "stream",
          "name": "stderr",
          "text": [
            " train: 100%|██████████| 5/5 [00:05<00:00,  1.16s/it, train_acc=29.6, train_loss=0.000736]\n",
            " test: 100%|██████████| 2/2 [00:02<00:00,  1.09s/it, test_acc=14, test_loss=1.69]\n"
          ]
        },
        {
          "output_type": "stream",
          "name": "stdout",
          "text": [
            "Epoch 14/20 :\n"
          ]
        },
        {
          "output_type": "stream",
          "name": "stderr",
          "text": [
            " train: 100%|██████████| 5/5 [00:04<00:00,  1.06it/s, train_acc=29.6, train_loss=0.000536]\n",
            " test: 100%|██████████| 2/2 [00:01<00:00,  1.50it/s, test_acc=14, test_loss=1.76]\n"
          ]
        },
        {
          "output_type": "stream",
          "name": "stdout",
          "text": [
            "Epoch 15/20 :\n"
          ]
        },
        {
          "output_type": "stream",
          "name": "stderr",
          "text": [
            " train: 100%|██████████| 5/5 [00:04<00:00,  1.07it/s, train_acc=29.6, train_loss=0.000406]\n",
            " test: 100%|██████████| 2/2 [00:02<00:00,  1.09s/it, test_acc=14, test_loss=1.84]\n"
          ]
        },
        {
          "output_type": "stream",
          "name": "stdout",
          "text": [
            "Epoch 16/20 :\n"
          ]
        },
        {
          "output_type": "stream",
          "name": "stderr",
          "text": [
            " train: 100%|██████████| 5/5 [00:06<00:00,  1.25s/it, train_acc=29.6, train_loss=0.000296]\n",
            " test: 100%|██████████| 2/2 [00:01<00:00,  1.49it/s, test_acc=13.5, test_loss=1.9]\n"
          ]
        },
        {
          "output_type": "stream",
          "name": "stdout",
          "text": [
            "Epoch 17/20 :\n"
          ]
        },
        {
          "output_type": "stream",
          "name": "stderr",
          "text": [
            " train: 100%|██████████| 5/5 [00:04<00:00,  1.11it/s, train_acc=29.6, train_loss=0.000269]\n",
            " test: 100%|██████████| 2/2 [00:01<00:00,  1.33it/s, test_acc=13, test_loss=1.94]\n"
          ]
        },
        {
          "output_type": "stream",
          "name": "stdout",
          "text": [
            "Epoch 18/20 :\n"
          ]
        },
        {
          "output_type": "stream",
          "name": "stderr",
          "text": [
            " train: 100%|██████████| 5/5 [00:07<00:00,  1.44s/it, train_acc=29.6, train_loss=0.000223]\n",
            " test: 100%|██████████| 2/2 [00:01<00:00,  1.51it/s, test_acc=13, test_loss=3.28]\n"
          ]
        },
        {
          "output_type": "stream",
          "name": "stdout",
          "text": [
            "Epoch 19/20 :\n"
          ]
        },
        {
          "output_type": "stream",
          "name": "stderr",
          "text": [
            " train: 100%|██████████| 5/5 [00:04<00:00,  1.02it/s, train_acc=29.6, train_loss=0.000216]\n",
            " test: 100%|██████████| 2/2 [00:01<00:00,  1.51it/s, test_acc=13, test_loss=3.29]\n"
          ]
        },
        {
          "output_type": "stream",
          "name": "stdout",
          "text": [
            "Epoch 20/20 :\n"
          ]
        },
        {
          "output_type": "stream",
          "name": "stderr",
          "text": [
            " train: 100%|██████████| 5/5 [00:07<00:00,  1.47s/it, train_acc=29.6, train_loss=0.000206]\n",
            " test: 100%|██████████| 2/2 [00:01<00:00,  1.48it/s, test_acc=13, test_loss=3.3]"
          ]
        },
        {
          "output_type": "stream",
          "name": "stdout",
          "text": [
            "\n",
            "\n",
            "Train time: 142.403 seconds\n"
          ]
        },
        {
          "output_type": "stream",
          "name": "stderr",
          "text": [
            "\n"
          ]
        }
      ]
    },
    {
      "cell_type": "code",
      "source": [
        "torch.save(model.state_dict(), 'saved_model')"
      ],
      "metadata": {
        "id": "a9_8NpcV51b0"
      },
      "execution_count": 25,
      "outputs": []
    },
    {
      "cell_type": "markdown",
      "source": [
        "# 4. Evaluation"
      ],
      "metadata": {
        "id": "z-Fo9d9qhbwq"
      }
    },
    {
      "cell_type": "code",
      "source": [
        "def accloss_plots(train_loss=train_epoch_loss,\n",
        "                  test_loss=test_epoch_loss,\n",
        "                  train_acc=train_epoch_accuracy,\n",
        "                  test_acc=test_epoch_accuracy):\n",
        "    num_epochs = len(train_loss)\n",
        "    plt.figure(figsize=(13,5))\n",
        "    plt.subplot(121)\n",
        "    plt.plot(train_loss, 'r', label='Train')\n",
        "    plt.plot(test_loss , 'g', label='Test')\n",
        "    plt.xlabel('Epochs', fontsize=10, labelpad=8)\n",
        "    plt.title('Loss', fontsize=25, pad=15)\n",
        "    plt.grid()\n",
        "    plt.legend()\n",
        "    sns.despine()\n",
        "    plt.subplot(122)\n",
        "    plt.plot(train_acc, 'r', label='Train')\n",
        "    plt.plot(test_acc, 'g', label='Test')\n",
        "    plt.xlabel('Epochs', fontsize=10, labelpad=8)\n",
        "    plt.title('Accuracy', fontsize=25, pad=15)\n",
        "    plt.tight_layout(pad=3)\n",
        "    plt.grid()\n",
        "    plt.legend()\n",
        "    sns.despine()\n",
        "    plt.show();"
      ],
      "metadata": {
        "id": "LFZ9lG9QheDv"
      },
      "execution_count": 26,
      "outputs": []
    },
    {
      "cell_type": "code",
      "source": [
        "accloss_plots(train_loss=train_epoch_loss,\n",
        "              test_loss=test_epoch_loss,\n",
        "              train_acc=train_epoch_accuracy,\n",
        "              test_acc=test_epoch_accuracy)"
      ],
      "metadata": {
        "colab": {
          "base_uri": "https://localhost:8080/",
          "height": 429
        },
        "id": "DCg1ce9yiVqA",
        "outputId": "060ceb75-6880-4c0d-ddfa-aac326fa446a"
      },
      "execution_count": 65,
      "outputs": [
        {
          "output_type": "display_data",
          "data": {
            "text/plain": [
              "<Figure size 1300x500 with 2 Axes>"
            ],
            "image/png": "[encoded data removed]"
          },
          "metadata": {}
        }
      ]
    },
    {
      "cell_type": "code",
      "source": [
        "def evaluate_model(model, test_dataloader, device):\n",
        "    model.eval()  # Set model to evaluation mode\n",
        "    all_preds = []\n",
        "    all_labels = []\n",
        "\n",
        "    with torch.no_grad():\n",
        "        for images, labels in test_dataloader:\n",
        "            images, labels = images.to(device), labels.to(device)\n",
        "            labels = labels.float().unsqueeze(1)  # Reshape labels to match output shape\n",
        "            outputs = model(images)  # Forward pass\n",
        "            preds = (outputs > 0.5).float()  # Convert probabilities to binary labels (0 or 1)\n",
        "\n",
        "            all_preds.extend(preds.cpu().numpy())\n",
        "            all_labels.extend(labels.cpu().numpy())\n",
        "\n",
        "    all_preds = np.array(all_preds).flatten()\n",
        "    all_labels = np.array(all_labels).flatten()\n",
        "\n",
        "    # Compute metrics\n",
        "    accuracy = accuracy_score(all_labels, all_preds)\n",
        "    precision = precision_score(all_labels, all_preds)\n",
        "    recall = recall_score(all_labels, all_preds)  # Sensitivity\n",
        "    specificity = recall_score(all_labels, all_preds, pos_label=0)  # True Negative Rate\n",
        "    f1 = f1_score(all_labels, all_preds)\n",
        "\n",
        "    # Compute confusion matrix\n",
        "    cm = confusion_matrix(all_labels, all_preds)\n",
        "\n",
        "    print(f\"Accuracy: {accuracy:.4f}\")\n",
        "    print(f\"Precision: {precision:.4f}\")\n",
        "    print(f\"Sensitivity (Recall): {recall:.4f}\")\n",
        "    print(f\"Specificity: {specificity:.4f}\")\n",
        "    print(f\"F1 Score: {f1:.4f}\")\n",
        "\n",
        "    # Plot confusion matrix\n",
        "    plt.figure(figsize=(6, 5))\n",
        "    sns.heatmap(cm, annot=True, fmt='d', cmap='Blues', xticklabels=[\"Negative\", \"Positive\"], yticklabels=[\"Negative\", \"Positive\"])\n",
        "    plt.xlabel(\"Predicted Label\")\n",
        "    plt.ylabel(\"True Label\")\n",
        "    plt.title(\"Confusion Matrix\")\n",
        "    plt.show()\n"
      ],
      "metadata": {
        "id": "XqpBzOF3v_Xi"
      },
      "execution_count": 28,
      "outputs": []
    },
    {
      "cell_type": "code",
      "source": [
        "evaluate_model(model, test_dataloader, device)\n"
      ],
      "metadata": {
        "id": "epPTEavbwBgU",
        "outputId": "35b923c9-4d54-4de2-dea2-43213f93a278",
        "colab": {
          "base_uri": "https://localhost:8080/",
          "height": 574
        }
      },
      "execution_count": 66,
      "outputs": [
        {
          "output_type": "stream",
          "name": "stdout",
          "text": [
            "Accuracy: 0.6047\n",
            "Precision: 0.5405\n",
            "Sensitivity (Recall): 1.0000\n",
            "Specificity: 0.2609\n",
            "F1 Score: 0.7018\n"
          ]
        },
        {
          "output_type": "display_data",
          "data": {
            "text/plain": [
              "<Figure size 600x500 with 2 Axes>"
            ],
            "image/png": "[encoded data removed]"
          },
          "metadata": {}
        }
      ]
    },
    {
      "cell_type": "code",
      "source": [],
      "metadata": {
        "id": "Bt2kmBKN5xtb"
      },
      "execution_count": null,
      "outputs": []
    }
  ]
}